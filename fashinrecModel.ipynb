{
  "nbformat": 4,
  "nbformat_minor": 0,
  "metadata": {
    "colab": {
      "provenance": [],
      "mount_file_id": "1h3CM9h8ydqgZRY1aWOFxb-xQA5bu3RVq",
      "authorship_tag": "ABX9TyPSHOXfFuRiGeTlYEB30fuP",
      "include_colab_link": true
    },
    "kernelspec": {
      "name": "python3",
      "display_name": "Python 3"
    },
    "language_info": {
      "name": "python"
    }
  },
  "cells": [
    {
      "cell_type": "markdown",
      "metadata": {
        "id": "view-in-github",
        "colab_type": "text"
      },
      "source": [
        "<a href=\"https://colab.research.google.com/github/IT21388934/imageFeature-Extractor/blob/main/fashinrecModel.ipynb\" target=\"_parent\"><img src=\"https://colab.research.google.com/assets/colab-badge.svg\" alt=\"Open In Colab\"/></a>"
      ]
    },
    {
      "cell_type": "code",
      "execution_count": 73,
      "metadata": {
        "id": "ZzR-huqjCzcv"
      },
      "outputs": [],
      "source": [
        "import tensorflow\n",
        "from keras.applications.resnet50 import ResNet50,preprocess_input\n",
        "from tensorflow.keras import Sequential\n",
        "from tensorflow.keras.layers import GlobalMaxPooling2D"
      ]
    },
    {
      "cell_type": "markdown",
      "source": [
        "model = ResNet50(weights='imagenet',include_top=False, input_shape=(224,224,3))\n",
        "model.trainable = False\n"
      ],
      "metadata": {
        "id": "t2O-nKqSPO4x"
      }
    },
    {
      "cell_type": "code",
      "source": [
        "model = Sequential()\n",
        "model.add(GlobalMaxPooling2D())\n",
        "# model.summary\n"
      ],
      "metadata": {
        "id": "wnHSxOCMTit-"
      },
      "execution_count": 74,
      "outputs": []
    },
    {
      "cell_type": "code",
      "source": [
        "import cv2\n",
        "import numpy as np\n",
        "from numpy.linalg import norm"
      ],
      "metadata": {
        "id": "AHPC0zmSYF2k"
      },
      "execution_count": 75,
      "outputs": []
    },
    {
      "cell_type": "code",
      "source": [
        "\n",
        "img=cv2.imread(\"/content/drive/MyDrive/Colab Notebooks/fashionRecSystem/dataset/10037.jpg\")\n",
        "# if img is None:\n",
        "#     print(\"Error: Image not found\")\n",
        "#     exit()\n",
        "# # Convert the image to RGB format (matplotlib expects RGB)\n",
        "# img_rgb = cv2.cvtColor(img, cv2.COLOR_BGR2RGB)\n",
        "# import matplotlib.pyplot as plt\n",
        "# # Display the image using matplotlib\n",
        "# plt.imshow(img_rgb)\n",
        "# plt.show()\n",
        "\n",
        "img = cv2.resize(img,(224,224))"
      ],
      "metadata": {
        "id": "u2lbu98KT1Xc"
      },
      "execution_count": 76,
      "outputs": []
    },
    {
      "cell_type": "code",
      "source": [
        "img = np.array(img)\n",
        "img.shape"
      ],
      "metadata": {
        "colab": {
          "base_uri": "https://localhost:8080/"
        },
        "id": "R0RQbzPPYAmK",
        "outputId": "42812433-cb8a-426c-9cea-fe10ef36803c"
      },
      "execution_count": null,
      "outputs": [
        {
          "output_type": "execute_result",
          "data": {
            "text/plain": [
              "(224, 224, 3)"
            ]
          },
          "metadata": {},
          "execution_count": 21
        }
      ]
    },
    {
      "cell_type": "code",
      "source": [
        "expand_img = np.expand_dims(img, axis=0)"
      ],
      "metadata": {
        "id": "z_pGMvNaYket"
      },
      "execution_count": null,
      "outputs": []
    },
    {
      "cell_type": "code",
      "source": [
        "expand_img.shape"
      ],
      "metadata": {
        "colab": {
          "base_uri": "https://localhost:8080/"
        },
        "id": "3QZufSz9nu8Y",
        "outputId": "799ac4d6-927a-4d8d-88cb-f7efc5f7af23"
      },
      "execution_count": null,
      "outputs": [
        {
          "output_type": "execute_result",
          "data": {
            "text/plain": [
              "(1, 224, 224, 3)"
            ]
          },
          "metadata": {},
          "execution_count": 7
        }
      ]
    },
    {
      "cell_type": "code",
      "source": [
        "pre_img = preprocess_input(expand_img)"
      ],
      "metadata": {
        "id": "S5Gmpk4yoGYi"
      },
      "execution_count": null,
      "outputs": []
    },
    {
      "cell_type": "code",
      "source": [
        "pre_img.shape"
      ],
      "metadata": {
        "colab": {
          "base_uri": "https://localhost:8080/"
        },
        "id": "8vvfhKuioOZ7",
        "outputId": "39076972-bd2f-44ae-df69-7882560a8ca5"
      },
      "execution_count": null,
      "outputs": [
        {
          "output_type": "execute_result",
          "data": {
            "text/plain": [
              "(1, 224, 224, 3)"
            ]
          },
          "metadata": {},
          "execution_count": 10
        }
      ]
    },
    {
      "cell_type": "code",
      "source": [
        "result = model.predict(pre_img).flatten()\n",
        "result.shape"
      ],
      "metadata": {
        "colab": {
          "base_uri": "https://localhost:8080/"
        },
        "id": "AJLwiv3-oXWo",
        "outputId": "b9dfbd40-4da6-4b9d-8560-8e8edbe91611"
      },
      "execution_count": null,
      "outputs": [
        {
          "output_type": "stream",
          "name": "stdout",
          "text": [
            "1/1 [==============================] - 0s 32ms/step\n"
          ]
        },
        {
          "output_type": "execute_result",
          "data": {
            "text/plain": [
              "(3,)"
            ]
          },
          "metadata": {},
          "execution_count": 25
        }
      ]
    },
    {
      "cell_type": "code",
      "source": [
        "normalized = result/norm(result)"
      ],
      "metadata": {
        "id": "9YUGFzrvo_KE"
      },
      "execution_count": null,
      "outputs": []
    },
    {
      "cell_type": "code",
      "source": [
        "normalized.shape"
      ],
      "metadata": {
        "colab": {
          "base_uri": "https://localhost:8080/"
        },
        "id": "5KuSq7vkpSzz",
        "outputId": "c3305e0e-bfab-4cc9-d945-0b3326530b59"
      },
      "execution_count": null,
      "outputs": [
        {
          "output_type": "execute_result",
          "data": {
            "text/plain": [
              "(3,)"
            ]
          },
          "metadata": {},
          "execution_count": 28
        }
      ]
    },
    {
      "cell_type": "code",
      "source": [
        "def extract_feature(img_path,model):\n",
        "  img=cv2.imread(img_path)\n",
        "  if img is None:\n",
        "    print(\"Error : Image not found\")\n",
        "  img = cv2.resize(img,(224,224))\n",
        "  img = np.array(img)\n",
        "  expand_img = np.expand_dims(img, axis=0)\n",
        "  pre_img = preprocess_input(expand_img)\n",
        "  result = model.predict(pre_img).flatten()\n",
        "  normalized = result/norm(result)\n",
        "  return normalized"
      ],
      "metadata": {
        "id": "fiW9jbn3pU82"
      },
      "execution_count": 77,
      "outputs": []
    },
    {
      "cell_type": "code",
      "source": [
        "extract_feature(\"/content/drive/MyDrive/Colab Notebooks/fashionRecSystem/dataset/10037.jpg\",model)"
      ],
      "metadata": {
        "colab": {
          "base_uri": "https://localhost:8080/"
        },
        "id": "JBp-AtToqDpq",
        "outputId": "b78fc51f-7541-4c7b-e6b7-c04fbb328718"
      },
      "execution_count": 78,
      "outputs": [
        {
          "output_type": "stream",
          "name": "stdout",
          "text": [
            "1/1 [==============================] - 0s 83ms/step\n"
          ]
        },
        {
          "output_type": "execute_result",
          "data": {
            "text/plain": [
              "array([0.62101734, 0.56823164, 0.5398614 ], dtype=float32)"
            ]
          },
          "metadata": {},
          "execution_count": 78
        }
      ]
    },
    {
      "cell_type": "code",
      "source": [
        "import os\n",
        "from tqdm import tqdm\n",
        "from IPython.display import clear_output"
      ],
      "metadata": {
        "id": "pu_GwjaDrJ1E"
      },
      "execution_count": 79,
      "outputs": []
    },
    {
      "cell_type": "code",
      "source": [
        "fileName=[]\n",
        "feature_list=[]\n",
        "\n",
        "for file in os.listdir('/content/drive/MyDrive/Colab Notebooks/fashionRecSystem/dataset'):\n",
        "  fileName.append(os.path.join('/content/drive/MyDrive/Colab Notebooks/fashionRecSystem/dataset',file))\n",
        "\n"
      ],
      "metadata": {
        "id": "5wovAAU3rEFA"
      },
      "execution_count": 80,
      "outputs": []
    },
    {
      "cell_type": "code",
      "source": [
        "list_size = len(fileName)\n",
        "print(list_size)"
      ],
      "metadata": {
        "colab": {
          "base_uri": "https://localhost:8080/"
        },
        "id": "acmGRrlormKw",
        "outputId": "3abe2d04-b6bb-40a6-f072-f8024055a269"
      },
      "execution_count": 81,
      "outputs": [
        {
          "output_type": "stream",
          "name": "stdout",
          "text": [
            "2906\n"
          ]
        }
      ]
    },
    {
      "cell_type": "code",
      "source": [
        "for file in tqdm(fileName):\n",
        "    clear_output(wait=True)\n",
        "    feature_list.append(extract_feature(file, model))"
      ],
      "metadata": {
        "colab": {
          "base_uri": "https://localhost:8080/"
        },
        "id": "_KraNpVlrncL",
        "outputId": "a0aab3f7-348d-4b5e-810e-337f136859fe"
      },
      "execution_count": 82,
      "outputs": [
        {
          "output_type": "stream",
          "name": "stdout",
          "text": [
            "1/1 [==============================] - 0s 36ms/step\n"
          ]
        },
        {
          "output_type": "stream",
          "name": "stderr",
          "text": [
            "100%|██████████| 2906/2906 [09:59<00:00,  4.85it/s]\n"
          ]
        }
      ]
    },
    {
      "cell_type": "code",
      "source": [
        "!pip install tqdm\n",
        "\n"
      ],
      "metadata": {
        "colab": {
          "base_uri": "https://localhost:8080/"
        },
        "id": "1G43t5WQvKkk",
        "outputId": "8e67dc5e-97af-4b3a-9f7b-8f436f064465"
      },
      "execution_count": null,
      "outputs": [
        {
          "output_type": "stream",
          "name": "stdout",
          "text": [
            "Requirement already satisfied: tqdm in /usr/local/lib/python3.10/dist-packages (4.66.2)\n"
          ]
        }
      ]
    },
    {
      "cell_type": "code",
      "source": [
        "import pickle\n",
        "\n",
        "pickle.dump(feature_list, open('featurevector.pk1','wb'))\n",
        "pickle.dump(fileName, open('filename.pk1','wb'))\n",
        "\n"
      ],
      "metadata": {
        "id": "gav9--ml3U6G"
      },
      "execution_count": 83,
      "outputs": []
    },
    {
      "cell_type": "code",
      "source": [],
      "metadata": {
        "id": "zW2kfWSY55_O"
      },
      "execution_count": null,
      "outputs": []
    }
  ]
}